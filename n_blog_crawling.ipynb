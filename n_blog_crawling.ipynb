{
 "cells": [
  {
   "cell_type": "code",
   "execution_count": 5,
   "id": "8f780add",
   "metadata": {},
   "outputs": [],
   "source": [
    "from selenium import webdriver\n",
    "from selenium.webdriver.common.by import By\n",
    "from selenium.webdriver.chrome.options import Options\n",
    "import time, pandas as pd\n",
    "\n",
    "# 설정\n",
    "MAX_POSTS = 30\n",
    "BASE_SEARCH_URL = \"https://section.blog.naver.com/Search/Post.naver?pageNo=1&rangeType=ALL&orderBy=sim&keyword=\"\n",
    "\n",
    "# 드라이버 설정\n",
    "options = Options()\n",
    "options.add_argument(\"--start-maximized\")\n",
    "driver = webdriver.Chrome(options=options)\n",
    "\n",
    "# 사용자 입력\n",
    "category = input(\"구분 업종: \")\n",
    "keyword = input(\"어떤 키워드로 검색?: \")\n",
    "search_url = BASE_SEARCH_URL + keyword\n",
    "driver.get(search_url)\n",
    "time.sleep(3)\n",
    "\n",
    "# 게시물 정보 수집\n",
    "results = []\n",
    "\n",
    "items = driver.find_elements(By.CSS_SELECTOR, \"div.list_search_post > div.item\")[:MAX_POSTS]\n",
    "\n",
    "for item in items:\n",
    "    try:\n",
    "        title = item.find_element(By.CSS_SELECTOR, \"div.desc strong.title_post span.title\").text\n",
    "    except:\n",
    "        title = \"\"\n",
    "\n",
    "    try:\n",
    "        description = item.find_element(By.CSS_SELECTOR, \"div.desc a.text\").text\n",
    "    except:\n",
    "        description = \"\"\n",
    "\n",
    "    try:\n",
    "        date = item.find_element(By.CSS_SELECTOR, \"div.writer_info span.date\").text\n",
    "    except:\n",
    "        date = \"\"\n",
    "\n",
    "    try:\n",
    "        thumbnail = item.find_element(By.CSS_SELECTOR, \"div.thumbnail_area img.img_post\").get_attribute(\"src\")\n",
    "    except:\n",
    "        thumbnail = \"\"\n",
    "\n",
    "    results.append({\n",
    "        \"채널/기법\": \"n_blog\",\n",
    "        \"구분업종\": category,\n",
    "        \"검색 키워드\": keyword,\n",
    "        \"제목\": title,\n",
    "        \"미리보기\": description,\n",
    "        \"작성일\": date,\n",
    "        \"썸네일\": thumbnail\n",
    "    })"
   ]
  },
  {
   "cell_type": "code",
   "execution_count": 6,
   "id": "da3f3d33",
   "metadata": {},
   "outputs": [
    {
     "name": "stdout",
     "output_type": "stream",
     "text": [
      "CSV 저장 완료: n_blog_crawling_result_2025-07-29_16-52-00.csv\n"
     ]
    }
   ],
   "source": [
    "from datetime import datetime\n",
    "\n",
    "# 현재 시간 문자열 (2025-07-29_09-30-15)\n",
    "now_str = datetime.now().strftime(\"%Y-%m-%d_%H-%M-%S\")\n",
    "\n",
    "# 파일명 생성\n",
    "filename = f\"n_blog_crawling_result_{now_str}.csv\"\n",
    "\n",
    "# 저장\n",
    "df = pd.DataFrame(results)\n",
    "df.to_csv(filename, index=False, encoding=\"utf-8-sig\")\n",
    "print(f\"CSV 저장 완료: {filename}\")"
   ]
  }
 ],
 "metadata": {
  "kernelspec": {
   "display_name": "base",
   "language": "python",
   "name": "python3"
  },
  "language_info": {
   "codemirror_mode": {
    "name": "ipython",
    "version": 3
   },
   "file_extension": ".py",
   "mimetype": "text/x-python",
   "name": "python",
   "nbconvert_exporter": "python",
   "pygments_lexer": "ipython3",
   "version": "3.11.5"
  }
 },
 "nbformat": 4,
 "nbformat_minor": 5
}
