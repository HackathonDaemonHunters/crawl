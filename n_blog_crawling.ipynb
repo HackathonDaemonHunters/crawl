{
 "cells": [
  {
   "cell_type": "code",
   "execution_count": null,
   "id": "8f780add",
   "metadata": {},
   "outputs": [
    {
     "name": "stdout",
     "output_type": "stream",
     "text": [
      "수집된 블로그 링크 수: 7\n"
     ]
    }
   ],
   "source": [
    "from selenium import webdriver\n",
    "from selenium.webdriver.common.by import By\n",
    "from selenium.webdriver.chrome.options import Options\n",
    "import time, pandas as pd\n",
    "\n",
    "# 설정\n",
    "MAX_POSTS = 30\n",
    "BASE_SEARCH_URL = \"https://section.blog.naver.com/Search/Post.naver?pageNo=1&rangeType=ALL&orderBy=sim&keyword=\"\n",
    "\n",
    "# 드라이버 설정\n",
    "options = Options()\n",
    "options.add_argument(\"--start-maximized\")\n",
    "driver = webdriver.Chrome(options=options)\n",
    "\n",
    "# 사용자 입력\n",
    "category = input(\"구분 업종: \")\n",
    "keyword = input(\"어떤 키워드로 검색?: \")\n",
    "search_url = BASE_SEARCH_URL + keyword\n",
    "driver.get(search_url)\n",
    "time.sleep(3)\n",
    "\n",
    "# 게시물 링크 수집\n",
    "post_links = []\n",
    "cards = driver.find_elements(By.CSS_SELECTOR, \"div.list_search_post a.desc_inner\")\n",
    "for card in cards:\n",
    "    href = card.get_attribute(\"href\")\n",
    "    if href and href not in post_links:\n",
    "        post_links.append(href)\n",
    "    if len(post_links) >= MAX_POSTS:\n",
    "        break\n",
    "\n",
    "print(f\"수집된 블로그 링크 수: {len(post_links)}\")\n",
    "\n",
    "# 게시물 상세 정보 수집\n",
    "results = []\n",
    "\n",
    "for url in post_links:\n",
    "    driver.get(url)\n",
    "    time.sleep(2)\n",
    "\n",
    "    try:\n",
    "        desc = driver.find_element(By.XPATH, '//meta[@property=\"og:description\"]').get_attribute(\"content\")\n",
    "    except:\n",
    "        desc = \"\"\n",
    "\n",
    "    try:\n",
    "        tag_elems = driver.find_elements(By.CSS_SELECTOR, \"span.ell\")\n",
    "        hashtags = [t.text for t in tag_elems if t.text.startswith(\"#\")]\n",
    "    except:\n",
    "        hashtags = []\n",
    "\n",
    "    results.append({\n",
    "        \"채널/기법\": \"n_blog\",\n",
    "        \"구분업종\": category,\n",
    "        \"검색 키워드\": keyword,\n",
    "        \"게시물 링크\": url,\n",
    "        \"게시물 텍스트\": desc,\n",
    "        \"해시태그 리스트\": \" \".join(hashtags)\n",
    "    })"
   ]
  },
  {
   "cell_type": "code",
   "execution_count": null,
   "id": "da3f3d33",
   "metadata": {},
   "outputs": [],
   "source": [
    "from datetime import datetime\n",
    "\n",
    "# 현재 시간 문자열 (2025-07-29_09-30-15)\n",
    "now_str = datetime.now().strftime(\"%Y-%m-%d_%H-%M-%S\")\n",
    "\n",
    "# 파일명 생성\n",
    "filename = f\"n_blog_crawling_result_{now_str}.csv\"\n",
    "\n",
    "# 저장\n",
    "df = pd.DataFrame(results)\n",
    "df.to_csv(filename, index=False, encoding=\"utf-8-sig\")\n",
    "print(f\"CSV 저장 완료: {filename}\")"
   ]
  }
 ],
 "metadata": {
  "kernelspec": {
   "display_name": "base",
   "language": "python",
   "name": "python3"
  },
  "language_info": {
   "codemirror_mode": {
    "name": "ipython",
    "version": 3
   },
   "file_extension": ".py",
   "mimetype": "text/x-python",
   "name": "python",
   "nbconvert_exporter": "python",
   "pygments_lexer": "ipython3",
   "version": "3.11.5"
  }
 },
 "nbformat": 4,
 "nbformat_minor": 5
}
